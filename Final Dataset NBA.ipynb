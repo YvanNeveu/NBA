{
 "cells": [
  {
   "cell_type": "code",
   "execution_count": 1,
   "metadata": {},
   "outputs": [],
   "source": [
    "import pandas as pd\n",
    "import os\n",
    "\n",
    "# Spécifiez le chemin complet du répertoire contenant votre fichier CSV\n",
    "chemin_du_repertoire = 'C:\\\\Users\\\\yvann\\\\OneDrive\\\\Documents\\\\Jedha\\\\CERTIFICATION BLOC 6'\n",
    "\n",
    "# Changez le répertoire de travail\n",
    "os.chdir(chemin_du_repertoire)\n",
    "\n",
    "\n",
    "# Charger chaque fichier CSV dans un DataFrame\n",
    "df1 = pd.read_csv('All time teams.csv')\n",
    "df2 = pd.read_csv('Current teams.csv')\n",
    "df3 = pd.read_csv('NBA Finals & MVP.csv')\n",
    "df4 = pd.read_csv('Player Career Info.csv')\n",
    "df5 = pd.read_csv('Team Age (summaries).csv')\n",
    "df6 = pd.read_csv('Teams stats per game.csv')\n",
    "\n",
    "\n",
    "# Concaténer les DataFrames en un seul DataFrame\n",
    "df_concat = pd.concat([df1, df2, df3, df4, df5], ignore_index=True)\n",
    "\n",
    "# Enregistrer le DataFrame consolidé dans un fichier CSV\n",
    "df_concat.to_csv('Final Dataset NBA.csv', index=False)\n"
   ]
  },
  {
   "cell_type": "code",
   "execution_count": null,
   "metadata": {},
   "outputs": [],
   "source": []
  }
 ],
 "metadata": {
  "kernelspec": {
   "display_name": "base",
   "language": "python",
   "name": "python3"
  },
  "language_info": {
   "codemirror_mode": {
    "name": "ipython",
    "version": 3
   },
   "file_extension": ".py",
   "mimetype": "text/x-python",
   "name": "python",
   "nbconvert_exporter": "python",
   "pygments_lexer": "ipython3",
   "version": "3.11.5"
  }
 },
 "nbformat": 4,
 "nbformat_minor": 2
}
